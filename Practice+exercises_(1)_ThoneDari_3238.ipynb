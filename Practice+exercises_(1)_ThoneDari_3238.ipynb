{
  "cells": [
    {
      "cell_type": "markdown",
      "id": "186222d0",
      "metadata": {
        "id": "186222d0"
      },
      "source": [
        "Exercise 1\n",
        "\n",
        "Write a function to report the weather condition.\n",
        "Input ==> Temperature ('C)\n",
        "\n",
        "IF the temperature is below 0, print \"Freezing Cold\"\n",
        "IF the temperature is 0-20, print \"Cold Weather\"\n",
        "IF the temperature is 21-30, print \" Warm Weather\"\n",
        "Otherwise, print \"Hot Weather\""
      ]
    },
    {
      "cell_type": "code",
      "execution_count": 6,
      "id": "4bbb422e",
      "metadata": {
        "id": "4bbb422e",
        "colab": {
          "base_uri": "https://localhost:8080/"
        },
        "outputId": "b6c3825d-f31a-494f-bcf8-ecfa72409f24"
      },
      "outputs": [
        {
          "output_type": "stream",
          "name": "stdout",
          "text": [
            "Warm Weather\n"
          ]
        }
      ],
      "source": [
        "def weather_report(temp: float):\n",
        "\n",
        "    if temp < 0:\n",
        "      print (\"Freezing Cold\")\n",
        "\n",
        "    elif 0 >= temp <= 20:\n",
        "     print (\"Cold Weather\")\n",
        "\n",
        "    elif 21 >= temp <= 30:\n",
        "      print (\"Warm Weather\")\n",
        "\n",
        "    else:\n",
        "      print (\"Hot Weather\")\n",
        "weather_report (20)"
      ]
    },
    {
      "cell_type": "markdown",
      "id": "36f44c18",
      "metadata": {
        "id": "36f44c18"
      },
      "source": [
        "Exercise 2\n",
        "\n",
        "Write a function that takes an integer as an input score\n",
        "\n",
        "If the score is greater than or equal to 50, print \"Pass\"\n",
        "If the score is greater than or equal to 75, print \"Good\"\n",
        "If the score is exactly 100, print \"Perfect\"\n",
        "\n",
        "Since these are multiple independent conditions, more than one message print"
      ]
    },
    {
      "cell_type": "code",
      "execution_count": 5,
      "id": "b3971fd8",
      "metadata": {
        "id": "b3971fd8",
        "colab": {
          "base_uri": "https://localhost:8080/"
        },
        "outputId": "eca2ed4b-1a4a-4867-8226-8a6b0b5a8b52"
      },
      "outputs": [
        {
          "output_type": "stream",
          "name": "stdout",
          "text": [
            "Pass\n"
          ]
        }
      ],
      "source": [
        "def get_score(score: float):\n",
        "\n",
        "   if score >= 50:\n",
        "      print(\"Pass\")\n",
        "\n",
        "   if score >= 75:\n",
        "      print(\"Good\")\n",
        "\n",
        "   if score == 100:\n",
        "      print(\"Perfect\")\n",
        "get_score (55)"
      ]
    },
    {
      "cell_type": "markdown",
      "id": "5c1b906e",
      "metadata": {
        "id": "5c1b906e"
      },
      "source": [
        "Exercise 3\n",
        "\n",
        "Write a program that returns the count of vowels in the string. Use a for loop to go through each character in the string.\n",
        "\n",
        "Input ==> apple, Output ==> 2\n",
        "\n",
        "Input ==> Hello World, Output => 3\n",
        "\n",
        "Input ==> balloon, Output ==> 3"
      ]
    },
    {
      "cell_type": "code",
      "execution_count": null,
      "id": "64239a6d",
      "metadata": {
        "id": "64239a6d"
      },
      "outputs": [],
      "source": [
        "def count_vowels(st: str):\n",
        "    count = 0\n",
        "    #TO DO\n",
        "    for c in st:\n",
        "      if c==\"a\" or c==\"A\" or c==\"e\" or c==\"E\" or c==\"i\" or c==\"I\" or c==\"o\" or c==\"O\" or c==\"u\" or c==\"U\":\n",
        "         count += 1\n",
        "    return count"
      ]
    },
    {
      "cell_type": "code",
      "source": [
        "count_vowels(\"apple\")"
      ],
      "metadata": {
        "colab": {
          "base_uri": "https://localhost:8080/"
        },
        "id": "OVfkdqK_3iDG",
        "outputId": "add72cbd-eabe-405c-e7e4-1319fa3203a8"
      },
      "id": "OVfkdqK_3iDG",
      "execution_count": null,
      "outputs": [
        {
          "output_type": "execute_result",
          "data": {
            "text/plain": [
              "2"
            ]
          },
          "metadata": {},
          "execution_count": 5
        }
      ]
    },
    {
      "cell_type": "code",
      "source": [
        "count_vowels(\"Hello World\")"
      ],
      "metadata": {
        "colab": {
          "base_uri": "https://localhost:8080/"
        },
        "id": "C5nDkzbc3sLE",
        "outputId": "2b281706-b3ad-4b59-d911-3f67ce1d4808"
      },
      "id": "C5nDkzbc3sLE",
      "execution_count": null,
      "outputs": [
        {
          "output_type": "execute_result",
          "data": {
            "text/plain": [
              "3"
            ]
          },
          "metadata": {},
          "execution_count": 6
        }
      ]
    },
    {
      "cell_type": "code",
      "source": [
        "count_vowels(\"balloon\")"
      ],
      "metadata": {
        "colab": {
          "base_uri": "https://localhost:8080/"
        },
        "id": "IFQ3TKRE3vs_",
        "outputId": "b7dcc2ae-3bd1-4717-952e-872ab52fd00b"
      },
      "id": "IFQ3TKRE3vs_",
      "execution_count": null,
      "outputs": [
        {
          "output_type": "execute_result",
          "data": {
            "text/plain": [
              "3"
            ]
          },
          "metadata": {},
          "execution_count": 7
        }
      ]
    }
  ],
  "metadata": {
    "language_info": {
      "name": "python"
    },
    "colab": {
      "provenance": []
    },
    "kernelspec": {
      "name": "python3",
      "display_name": "Python 3"
    }
  },
  "nbformat": 4,
  "nbformat_minor": 5
}