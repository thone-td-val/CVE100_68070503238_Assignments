{
  "cells": [
    {
      "cell_type": "markdown",
      "metadata": {
        "id": "thtZCFslh66M"
      },
      "source": [
        "#  Numbers"
      ]
    },
    {
      "cell_type": "markdown",
      "metadata": {
        "id": "kaDr-Kdqh66R"
      },
      "source": [
        "Compute the number of bytes in one Gigabyte (1kb = 1024 bytes, 1mb = 1024 kb, 1gb = 1024 mb)"
      ]
    },
    {
      "cell_type": "code",
      "execution_count": null,
      "metadata": {
        "colab": {
          "base_uri": "https://localhost:8080/"
        },
        "id": "kGlmiTFzh66S",
        "outputId": "04c3eeac-7f4f-4742-b5d7-61bf9b160135"
      },
      "outputs": [
        {
          "output_type": "stream",
          "name": "stdout",
          "text": [
            "The number of bytes in one Gigabyte: 1073741824\n"
          ]
        }
      ],
      "source": [
        "#Write your code here\n",
        "\n",
        "\n",
        "gig_in_bytes = 1024*1024*1024\n",
        "print (\"The number of bytes in one Gigabyte:\", gig_in_bytes)\n",
        "\n",
        "\n"
      ]
    },
    {
      "cell_type": "markdown",
      "metadata": {
        "id": "SY-mUVrsh66W"
      },
      "source": [
        "You bought 500 shares of stock A at $\\$$600 on day 0 and you sold it at  $\\$$1000 on day 700.\n",
        "The daily discount rate is 0.0001%. How much profit did you make in terms of net present value.\n"
      ]
    },
    {
      "cell_type": "code",
      "execution_count": null,
      "metadata": {
        "id": "jpx2FaTsh66X",
        "colab": {
          "base_uri": "https://localhost:8080/"
        },
        "outputId": "95933b02-5fd3-4c8d-c737-066aa63f502a"
      },
      "outputs": [
        {
          "output_type": "stream",
          "name": "stdout",
          "text": [
            "199650.12264632783\n"
          ]
        }
      ],
      "source": [
        "#Write your code here\n",
        "inital = 500*600\n",
        "future_cost = 500*1000\n",
        "discount_rate = future_cost / (1 + 0.000001)** 700\n",
        "profit =  discount_rate - inital\n",
        "\n",
        "print(profit)"
      ]
    },
    {
      "cell_type": "markdown",
      "metadata": {
        "id": "291GBjsMh66Y"
      },
      "source": [
        "For any value of x, create a variable called even_check that is True if x is even and False if x is odd."
      ]
    },
    {
      "cell_type": "code",
      "execution_count": null,
      "metadata": {
        "run_control": {
          "marked": true
        },
        "colab": {
          "base_uri": "https://localhost:8080/"
        },
        "id": "qjOZ2lOIh66Z",
        "outputId": "a58bdcbf-ab3c-4714-9bb5-0200c0a7dff5"
      },
      "outputs": [
        {
          "output_type": "stream",
          "name": "stdout",
          "text": [
            "Enter a number: 24\n",
            "The number is even.\n"
          ]
        }
      ],
      "source": [
        "#Write your code here\n",
        "x = int(input(\"Enter a number: \"))\n",
        "Even = x%2\n",
        "\n",
        "if Even == 0:\n",
        "   print(\"The number is even.\")\n",
        "else: print(\"The number is odd.\")"
      ]
    },
    {
      "cell_type": "markdown",
      "metadata": {
        "id": "ut2VG1ieh66a"
      },
      "source": [
        "You have num_shirts t-shirts, num_shorts pairs of shorts and num_shoes pairs of shoes.  Create a variable called num_outfits that stores the total number of different outfits you can make."
      ]
    },
    {
      "cell_type": "code",
      "execution_count": null,
      "metadata": {
        "colab": {
          "base_uri": "https://localhost:8080/"
        },
        "id": "h0QUZ7A1h66a",
        "outputId": "257f5b68-c139-4d0e-e1b5-a2ef66dc41be"
      },
      "outputs": [
        {
          "output_type": "stream",
          "name": "stdout",
          "text": [
            "Enter a number for t-shirt: 2\n",
            "Enter a numberfor shorts: 3\n",
            "Enter a number for shoes: 7\n",
            "Total number of different outfits is 42 .\n"
          ]
        }
      ],
      "source": [
        "#Write your code here\n",
        "num_tshirts = int(input(\"Enter a number for t-shirt: \"))\n",
        "num_shorts = int(input(\"Enter a numberfor shorts: \"))\n",
        "num_shoes = int(input(\"Enter a number for shoes: \"))\n",
        "\n",
        "Total = (num_tshirts * num_shorts * num_shoes)\n",
        "\n",
        "print(\"Total number of different outfits is\", Total, \".\")\n"
      ]
    },
    {
      "cell_type": "markdown",
      "metadata": {
        "id": "uHVJE_8Mh66b"
      },
      "source": [
        "# String Practice\n",
        "\n",
        "Create variable called \"name\" that stores your full name. Find whether your name has an even or odd number of letters."
      ]
    },
    {
      "cell_type": "code",
      "execution_count": null,
      "metadata": {
        "colab": {
          "base_uri": "https://localhost:8080/"
        },
        "id": "rKkgLm_Eh66d",
        "outputId": "4de311b2-c7d0-4da8-93c4-7435bb844806"
      },
      "outputs": [
        {
          "output_type": "stream",
          "name": "stdout",
          "text": [
            "Enter your name please: Thone Dari Su Htet\n",
            "Your name has an even numbers of letters.\n"
          ]
        }
      ],
      "source": [
        "#Write your code here\n",
        "\n",
        "Name = input(\"Enter your name please: \")\n",
        "length = len(Name)\n",
        "Even = length % 2\n",
        "\n",
        "if Even == 0 :\n",
        "  print(\"Your name has an even numbers of letters.\")\n",
        "else :\n",
        "  print(\"Your name has an odd numbers of letters.\")\n",
        "\n"
      ]
    },
    {
      "cell_type": "markdown",
      "metadata": {
        "id": "-rnK1aWYh66d"
      },
      "source": [
        "Correct the following variable so it is equal to \"spammy\""
      ]
    },
    {
      "cell_type": "code",
      "execution_count": null,
      "metadata": {
        "id": "Y10Z3_uZh66e",
        "colab": {
          "base_uri": "https://localhost:8080/"
        },
        "outputId": "df3234d6-dead-4b23-afd9-37084b53782b"
      },
      "outputs": [
        {
          "output_type": "stream",
          "name": "stdout",
          "text": [
            "spammy\n"
          ]
        }
      ],
      "source": [
        "#Write your code here\n",
        "s = \"spaxxy\"\n",
        "m = \"mm\"\n",
        "print(s[0:3] + m + s[5] )"
      ]
    },
    {
      "cell_type": "markdown",
      "metadata": {
        "id": "Akev1A4Ih66e"
      },
      "source": [
        "Figure out a way to slice and combine the strings s1, s2, and s3 so that the variable consec_ints = \"123456789\"."
      ]
    },
    {
      "cell_type": "code",
      "execution_count": null,
      "metadata": {
        "id": "AIqjgrwth66f",
        "colab": {
          "base_uri": "https://localhost:8080/"
        },
        "outputId": "a3774e00-93b3-40fc-8828-3a74e96be9a4"
      },
      "outputs": [
        {
          "output_type": "stream",
          "name": "stdout",
          "text": [
            "123456789\n"
          ]
        }
      ],
      "source": [
        "s1 = \"12345\"\n",
        "s2 = \"34567\"\n",
        "s3 = \"789\"\n",
        "\n",
        "#Write your code here\n",
        "print(s1[0:2] + s2 + s3[1:3])\n"
      ]
    },
    {
      "cell_type": "markdown",
      "metadata": {
        "id": "9HF2Kl0hh66g"
      },
      "source": [
        "#  List Practice\n",
        "\n"
      ]
    },
    {
      "cell_type": "markdown",
      "metadata": {
        "id": "ort2SHMqh66g"
      },
      "source": [
        "Add the first and last elements of the list L. Store the result in a variable called sum_first_last. Your code should work if I change L."
      ]
    },
    {
      "cell_type": "code",
      "execution_count": null,
      "metadata": {
        "id": "LOu1ngKXh66h",
        "colab": {
          "base_uri": "https://localhost:8080/"
        },
        "outputId": "dd0f557b-8b87-43b0-d528-b4ad525550d9"
      },
      "outputs": [
        {
          "output_type": "stream",
          "name": "stdout",
          "text": [
            "72\n"
          ]
        }
      ],
      "source": [
        "L = [5,1,43,2,4,56,7,90, 67]\n",
        "\n",
        "#Write your code here\n",
        "sum_first_last = (L[0] + L[-1])\n",
        "print(sum_first_last)"
      ]
    },
    {
      "cell_type": "markdown",
      "metadata": {
        "id": "49v03ph5h66h"
      },
      "source": [
        "Slice and combine the elements of the list L in a way to print out \"spam\"."
      ]
    },
    {
      "cell_type": "code",
      "execution_count": null,
      "metadata": {
        "id": "gydpnbgOh66h",
        "colab": {
          "base_uri": "https://localhost:8080/"
        },
        "outputId": "7e4b52fb-b972-4af4-ae94-99cd96866f31"
      },
      "outputs": [
        {
          "output_type": "stream",
          "name": "stdout",
          "text": [
            "spam\n"
          ]
        }
      ],
      "source": [
        "L = [1,\"s\", 2, 3, \"p\", \"a\", 34,1,\"m\"]\n",
        "\n",
        "\n",
        "#Write your code here\n",
        "print(L[1]+ L[4] + L[5] + L[-1])\n"
      ]
    },
    {
      "cell_type": "markdown",
      "metadata": {
        "id": "MKCaom03h66i"
      },
      "source": [
        "Create a variable called num_L which store the number represented by the list of strings in L.  For the example num_L should be 145. You may assume 3 digit numbers."
      ]
    },
    {
      "cell_type": "code",
      "execution_count": null,
      "metadata": {
        "id": "upq-QaURh66j",
        "colab": {
          "base_uri": "https://localhost:8080/"
        },
        "outputId": "41c18812-4de6-420e-e782-3350360d133a"
      },
      "outputs": [
        {
          "output_type": "stream",
          "name": "stdout",
          "text": [
            "415\n"
          ]
        }
      ],
      "source": [
        "L = [\"1\",\"4\",\"5\" ]\n",
        "\n",
        "#Write you code here\n",
        "num_L = (L[1] + L[0] + L[2])\n",
        "print(num_L)"
      ]
    },
    {
      "cell_type": "markdown",
      "metadata": {
        "id": "y38wcvkvh66k"
      },
      "source": [
        "Create a list L of numbers of odd length.  Complete the following tasks:\n",
        "\n",
        " - Find the median element\n",
        " - Slice out all element indexed lower than the median element"
      ]
    },
    {
      "cell_type": "code",
      "execution_count": null,
      "metadata": {
        "id": "tBtZtE5sh66k",
        "colab": {
          "base_uri": "https://localhost:8080/"
        },
        "outputId": "2c70f821-a356-41a8-b872-42eb5accad82"
      },
      "outputs": [
        {
          "output_type": "stream",
          "name": "stdout",
          "text": [
            "L= [2, 3, 4, 5, 6, 6, 9] .\n",
            "The median is 5 .\n",
            "[2, 3, 4]\n"
          ]
        }
      ],
      "source": [
        "L= [4,5,3,2,6,6,9]\n",
        "\n",
        "#Write your code here\n",
        "sot_L = sorted(L)\n",
        "median_index = int(len(sot_L)/2)\n",
        "median = sot_L[median_index]\n",
        "\n",
        "print(\"L=\",sot_L,\".\")\n",
        "print(\"The median is\",median, \".\")\n",
        "\n",
        "lower_num = sot_L[: median_index]\n",
        "print(lower_num)\n"
      ]
    }
  ],
  "metadata": {
    "kernelspec": {
      "display_name": "Python 3",
      "language": "python",
      "name": "python3"
    },
    "language_info": {
      "codemirror_mode": {
        "name": "ipython",
        "version": 3
      },
      "file_extension": ".py",
      "mimetype": "text/x-python",
      "name": "python",
      "nbconvert_exporter": "python",
      "pygments_lexer": "ipython3",
      "version": "3.6.0"
    },
    "toc": {
      "colors": {
        "hover_highlight": "#DAA520",
        "navigate_num": "#000000",
        "navigate_text": "#333333",
        "running_highlight": "#FF0000",
        "selected_highlight": "#FFD700",
        "sidebar_border": "#EEEEEE",
        "wrapper_background": "#FFFFFF"
      },
      "moveMenuLeft": true,
      "nav_menu": {
        "height": "12px",
        "width": "252px"
      },
      "navigate_menu": true,
      "number_sections": true,
      "sideBar": true,
      "skip_h1_title": false,
      "threshold": 4,
      "toc_cell": false,
      "toc_position": {},
      "toc_section_display": "block",
      "toc_window_display": false,
      "widenNotebook": false
    },
    "colab": {
      "provenance": []
    }
  },
  "nbformat": 4,
  "nbformat_minor": 0
}
