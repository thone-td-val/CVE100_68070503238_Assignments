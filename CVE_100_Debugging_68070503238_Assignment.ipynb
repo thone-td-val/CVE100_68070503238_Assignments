{
  "cells": [
    {
      "cell_type": "markdown",
      "metadata": {
        "id": "CcnGMDB2-Xws"
      },
      "source": [
        "CHALLENGE INSTRUCTIONS:\n",
        "- Each exercise contains one or more bugs\n",
        "- Some bugs are subtle and require careful analysis\n",
        "- Read error messages carefully - they're your best friend!\n",
        "- Some exercises have multiple bugs - fix them all!\n",
        "- Try to understand WHY the bug occurred, not just HOW to fix it\n",
        "\n",
        "Good luck!"
      ]
    },
    {
      "cell_type": "markdown",
      "metadata": {
        "id": "8bM4dsPm_D9I"
      },
      "source": [
        "**CHALLENGE 1: The Mysterious Growing List**"
      ]
    },
    {
      "cell_type": "code",
      "execution_count": 3,
      "metadata": {
        "id": "uHQDQi33-Ncw"
      },
      "outputs": [
        {
          "name": "stdout",
          "output_type": "stream",
          "text": [
            "\n",
            "--- TEST CASES ---\n",
            "Test 1: Class A: ['Alice']\n",
            "Test 2: Class B: ['Alice', 'Bob']\n",
            "Test 3: Class C: ['Alice', 'Bob', 'Charlie']\n"
          ]
        }
      ],
      "source": [
        "def add_student(name, class_list=[]):\n",
        "    \"\"\"Add a student to a class list\"\"\"\n",
        "    class_list.append(name)\n",
        "    return class_list\n",
        "\n",
        "\n",
        "print(\"\\n--- TEST CASES ---\")\n",
        "print(\"Test 1: Class A:\", add_student(\"Alice\"))\n",
        "print(\"Test 2: Class B:\", add_student(\"Bob\"))\n",
        "print(\"Test 3: Class C:\", add_student(\"Charlie\"))"
      ]
    },
    {
      "cell_type": "markdown",
      "metadata": {
        "id": "QrD18riJ-0xl"
      },
      "source": [
        "**EXPECTED OUTPUT**\n",
        "\n",
        "\"Class A: ['Alice']\"\n",
        "\n",
        "\"Class B: ['Bob']\n",
        "\n",
        "\"Class C: ['Charlie']\""
      ]
    },
    {
      "cell_type": "markdown",
      "metadata": {
        "id": "28jBp_pc_FwU"
      },
      "source": [
        "**CHALLENGE 2: The Mysterious Growing List**"
      ]
    },
    {
      "cell_type": "code",
      "execution_count": 30,
      "metadata": {
        "id": "nVYMAZ4S_ggm"
      },
      "outputs": [],
      "source": [
        "total = 0\n",
        "\n",
        "def add_to_total(value):\n",
        "    # This creates a LOCAL variable named 'total'\n",
        "    # instead of modifying the global one\n",
        "    try:\n",
        "        total= 0\n",
        "        total = total + value\n",
        "        return total\n",
        "    except UnboundLocalError as e:\n",
        "        return f\"ERROR: {e}\""
      ]
    },
    {
      "cell_type": "code",
      "execution_count": 31,
      "metadata": {
        "colab": {
          "base_uri": "https://localhost:8080/",
          "height": 233
        },
        "id": "2_bIKhT8AA1V",
        "outputId": "90f8ab1e-8c90-4afb-ff5c-cd97ac723ffa"
      },
      "outputs": [
        {
          "name": "stdout",
          "output_type": "stream",
          "text": [
            "Initial total: 0\n",
            "After adding 10: 10\n",
            "After adding 20: 30\n",
            "Gloal Total: 30\n"
          ]
        }
      ],
      "source": [
        "total_v2 = 0\n",
        "print(f\"Initial total: {total_v2}\") \n",
        "total_v2 = add_to_total(10)\n",
        "print(f\"After adding 10: {total_v2}\")\n",
        "total_v2 = add_to_total(30)\n",
        "print(f\"After adding 20: {total_v2}\")\n",
        "print(f\"Gloal Total: {total_v2}\")"
      ]
    },
    {
      "cell_type": "markdown",
      "metadata": {
        "id": "tkBG_Yqg_qVe"
      },
      "source": [
        "**EXPECTED OUTPUT**\n",
        "\n",
        "\n",
        "\"Initial total: 0\"\n",
        "\n",
        "\"After adding 10: 10\"\n",
        "\n",
        "\"After adding 20: 30\"\n",
        "\n",
        "\"Global total: 30\""
      ]
    },
    {
      "cell_type": "markdown",
      "metadata": {
        "id": "7I4gwKbcA75h"
      },
      "source": [
        "**CHALLENGE 3: Analyze Test Scores**"
      ]
    },
    {
      "cell_type": "code",
      "execution_count": 11,
      "metadata": {
        "id": "xrV4HIvBBi9w"
      },
      "outputs": [],
      "source": [
        "def analyze_test_scores(scores):\n",
        "    total = 0\n",
        "    for score in scores:\n",
        "        total += score\n",
        "\n",
        "    average = total / len(scores)\n",
        "    highest = scores[0]\n",
        "    lowest = scores[0]\n",
        "    passing_count = 0\n",
        "\n",
        "    for i in range(len(scores)):\n",
        "        if scores[i] > highest:\n",
        "            highest = scores[i]\n",
        "        if scores[i] < lowest:\n",
        "            lowest = scores[i]\n",
        "        if scores[i] >= 60:\n",
        "            passing_count += 1\n",
        "\n",
        "    return {\n",
        "        'average': average,\n",
        "        'highest': highest,\n",
        "        'lowest': lowest,\n",
        "        'passing': passing_count,\n",
        "        'failing': len(scores) - passing_count\n",
        "    }"
      ]
    },
    {
      "cell_type": "code",
      "execution_count": 19,
      "metadata": {
        "colab": {
          "base_uri": "https://localhost:8080/",
          "height": 376
        },
        "id": "hXPkZ2baByGv",
        "outputId": "a60624f3-7b92-4a95-e82c-2ebba172e03b"
      },
      "outputs": [
        {
          "name": "stdout",
          "output_type": "stream",
          "text": [
            "\n",
            "--- TEST CASES ---\n",
            "Input: [85, 92, 78, 90, 65, 88, 76, 95, 82, 70]\n",
            "Result: {'average': 82.1, 'highest': 95, 'lowest': 65, 'passing': 10, 'failing': 0}\n"
          ]
        }
      ],
      "source": [
        "print(\"\\n--- TEST CASES ---\")\n",
        "test_scores = [85, 92, 78, 90, 65, 88, 76, 95, 82, 70]\n",
        "print(f\"Input: {test_scores}\")\n",
        "\n",
        "stats = analyze_test_scores(test_scores)\n",
        "print(f\"Result: {stats}\")"
      ]
    },
    {
      "cell_type": "markdown",
      "metadata": {
        "id": "vqL7zudACCfm"
      },
      "source": [
        "{\n",
        "    'average': 82.1,\n",
        "\n",
        "    'highest': 95,\n",
        "\n",
        "    'lowest': 65,\n",
        "\n",
        "    'passing': 10,\n",
        "    \n",
        "    'failing': 0\n",
        "}"
      ]
    },
    {
      "cell_type": "markdown",
      "metadata": {
        "id": "PYVYNlRmMbk7"
      },
      "source": [
        "**CHALLENGE 4: Dictionary Iteration Modification**"
      ]
    },
    {
      "cell_type": "code",
      "execution_count": 32,
      "metadata": {
        "colab": {
          "base_uri": "https://localhost:8080/",
          "height": 358
        },
        "id": "d0HEV_OcL8Jl",
        "outputId": "94809b7e-23c4-4eaa-ecfd-b63d520a78e4"
      },
      "outputs": [
        {
          "name": "stdout",
          "output_type": "stream",
          "text": [
            "\n",
            "--- TEST CASES ---\n",
            "Result: {'apple': 1.5, 'orange': 2.0, 'mango': 3.0}\n"
          ]
        }
      ],
      "source": [
        "def remove_negative_prices(inventory):\n",
        "    for item, price in list (inventory.items()):\n",
        "        if price < 0:\n",
        "            del inventory[item]\n",
        "    return inventory\n",
        "\n",
        "\n",
        "print(\"\\n--- TEST CASES ---\")\n",
        "products = {\n",
        "    'apple': 1.50,\n",
        "    'banana': -0.50,\n",
        "    'orange': 2.00,\n",
        "    'grape': -1.00,\n",
        "    'mango': 3.00\n",
        "}\n",
        "\n",
        "\n",
        "\n",
        "cleaned = remove_negative_prices(products.copy())\n",
        "print(f\"Result: {cleaned}\")"
      ]
    },
    {
      "cell_type": "markdown",
      "metadata": {
        "id": "RLbA2_lPML-r"
      },
      "source": [
        "**EXPECTED OUTPUT**\n",
        "\n",
        "\n",
        "Result: {'apple': 1.50, 'orange': 2.00, 'mango': 3.00}"
      ]
    }
  ],
  "metadata": {
    "colab": {
      "provenance": []
    },
    "kernelspec": {
      "display_name": "Python 3",
      "name": "python3"
    },
    "language_info": {
      "codemirror_mode": {
        "name": "ipython",
        "version": 3
      },
      "file_extension": ".py",
      "mimetype": "text/x-python",
      "name": "python",
      "nbconvert_exporter": "python",
      "pygments_lexer": "ipython3",
      "version": "3.12.6"
    }
  },
  "nbformat": 4,
  "nbformat_minor": 0
}
